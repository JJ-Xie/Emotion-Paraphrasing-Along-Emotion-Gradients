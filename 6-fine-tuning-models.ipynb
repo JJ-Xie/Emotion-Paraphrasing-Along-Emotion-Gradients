{
 "cells": [
  {
   "cell_type": "code",
   "execution_count": 1,
   "id": "2aa6e98f",
   "metadata": {
    "scrolled": true
   },
   "outputs": [
    {
     "name": "stdout",
     "output_type": "stream",
     "text": [
      "\u001b[33mWARNING: Ignoring invalid distribution -ransformers (/home/xie/.pyenv/versions/3.7.8/lib/python3.7/site-packages)\u001b[0m\u001b[33m\n",
      "\u001b[0m\u001b[33mWARNING: Ignoring invalid distribution -ransformers (/home/xie/.pyenv/versions/3.7.8/lib/python3.7/site-packages)\u001b[0m\u001b[33m\n",
      "\u001b[0mRequirement already satisfied: simpletransformers in /home/xie/.pyenv/versions/3.7.8/lib/python3.7/site-packages (0.63.6)\n",
      "Requirement already satisfied: tokenizers in /home/xie/.pyenv/versions/3.7.8/lib/python3.7/site-packages (from simpletransformers) (0.13.2)\n",
      "Requirement already satisfied: requests in /home/xie/.pyenv/versions/3.7.8/lib/python3.7/site-packages (from simpletransformers) (2.26.0)\n",
      "Requirement already satisfied: scikit-learn in /home/xie/.pyenv/versions/3.7.8/lib/python3.7/site-packages (from simpletransformers) (1.0.2)\n",
      "Requirement already satisfied: pandas in /home/xie/.pyenv/versions/3.7.8/lib/python3.7/site-packages (from simpletransformers) (1.3.5)\n",
      "Requirement already satisfied: wandb>=0.10.32 in /home/xie/.pyenv/versions/3.7.8/lib/python3.7/site-packages (from simpletransformers) (0.12.14)\n",
      "Requirement already satisfied: sentencepiece in /home/xie/.pyenv/versions/3.7.8/lib/python3.7/site-packages (from simpletransformers) (0.1.96)\n",
      "Requirement already satisfied: tensorboard in /home/xie/.pyenv/versions/3.7.8/lib/python3.7/site-packages (from simpletransformers) (2.11.0)\n",
      "Requirement already satisfied: scipy in /home/xie/.pyenv/versions/3.7.8/lib/python3.7/site-packages (from simpletransformers) (1.7.3)\n",
      "Requirement already satisfied: streamlit in /home/xie/.pyenv/versions/3.7.8/lib/python3.7/site-packages (from simpletransformers) (1.8.1)\n",
      "Requirement already satisfied: datasets in /home/xie/.pyenv/versions/3.7.8/lib/python3.7/site-packages (from simpletransformers) (2.1.0)\n",
      "Requirement already satisfied: seqeval in /home/xie/.pyenv/versions/3.7.8/lib/python3.7/site-packages (from simpletransformers) (1.2.2)\n",
      "Requirement already satisfied: transformers>=4.6.0 in /home/xie/.pyenv/versions/3.7.8/lib/python3.7/site-packages (from simpletransformers) (4.25.1)\n",
      "Requirement already satisfied: numpy in /home/xie/.pyenv/versions/3.7.8/lib/python3.7/site-packages (from simpletransformers) (1.19.5)\n",
      "Requirement already satisfied: tqdm>=4.47.0 in /home/xie/.pyenv/versions/3.7.8/lib/python3.7/site-packages (from simpletransformers) (4.62.1)\n",
      "Requirement already satisfied: regex in /home/xie/.pyenv/versions/3.7.8/lib/python3.7/site-packages (from simpletransformers) (2021.8.3)\n",
      "Requirement already satisfied: filelock in /home/xie/.pyenv/versions/3.7.8/lib/python3.7/site-packages (from transformers>=4.6.0->simpletransformers) (3.0.12)\n",
      "Requirement already satisfied: pyyaml>=5.1 in /home/xie/.pyenv/versions/3.7.8/lib/python3.7/site-packages (from transformers>=4.6.0->simpletransformers) (5.4.1)\n",
      "Requirement already satisfied: huggingface-hub<1.0,>=0.10.0 in /home/xie/.pyenv/versions/3.7.8/lib/python3.7/site-packages (from transformers>=4.6.0->simpletransformers) (0.10.1)\n",
      "Requirement already satisfied: importlib-metadata in /home/xie/.pyenv/versions/3.7.8/lib/python3.7/site-packages (from transformers>=4.6.0->simpletransformers) (4.6.3)\n",
      "Requirement already satisfied: packaging>=20.0 in /home/xie/.pyenv/versions/3.7.8/lib/python3.7/site-packages (from transformers>=4.6.0->simpletransformers) (21.0)\n",
      "Requirement already satisfied: python-dateutil>=2.6.1 in /home/xie/.pyenv/versions/3.7.8/lib/python3.7/site-packages (from wandb>=0.10.32->simpletransformers) (2.8.2)\n",
      "Requirement already satisfied: docker-pycreds>=0.4.0 in /home/xie/.pyenv/versions/3.7.8/lib/python3.7/site-packages (from wandb>=0.10.32->simpletransformers) (0.4.0)\n",
      "Requirement already satisfied: psutil>=5.0.0 in /home/xie/.pyenv/versions/3.7.8/lib/python3.7/site-packages (from wandb>=0.10.32->simpletransformers) (5.9.0)\n",
      "Requirement already satisfied: promise<3,>=2.0 in /home/xie/.pyenv/versions/3.7.8/lib/python3.7/site-packages (from wandb>=0.10.32->simpletransformers) (2.3)\n",
      "Requirement already satisfied: sentry-sdk>=1.0.0 in /home/xie/.pyenv/versions/3.7.8/lib/python3.7/site-packages (from wandb>=0.10.32->simpletransformers) (1.5.9)\n",
      "Requirement already satisfied: Click!=8.0.0,>=7.0 in /home/xie/.pyenv/versions/3.7.8/lib/python3.7/site-packages (from wandb>=0.10.32->simpletransformers) (8.0.1)\n",
      "Requirement already satisfied: protobuf>=3.12.0 in /home/xie/.pyenv/versions/3.7.8/lib/python3.7/site-packages (from wandb>=0.10.32->simpletransformers) (3.17.3)\n",
      "Requirement already satisfied: GitPython>=1.0.0 in /home/xie/.pyenv/versions/3.7.8/lib/python3.7/site-packages (from wandb>=0.10.32->simpletransformers) (3.1.27)\n",
      "Requirement already satisfied: setproctitle in /home/xie/.pyenv/versions/3.7.8/lib/python3.7/site-packages (from wandb>=0.10.32->simpletransformers) (1.2.2)\n",
      "Requirement already satisfied: six>=1.13.0 in /home/xie/.pyenv/versions/3.7.8/lib/python3.7/site-packages (from wandb>=0.10.32->simpletransformers) (1.15.0)\n",
      "Requirement already satisfied: pathtools in /home/xie/.pyenv/versions/3.7.8/lib/python3.7/site-packages (from wandb>=0.10.32->simpletransformers) (0.1.2)\n",
      "Requirement already satisfied: shortuuid>=0.5.0 in /home/xie/.pyenv/versions/3.7.8/lib/python3.7/site-packages (from wandb>=0.10.32->simpletransformers) (1.0.8)\n",
      "Requirement already satisfied: charset-normalizer~=2.0.0 in /home/xie/.pyenv/versions/3.7.8/lib/python3.7/site-packages (from requests->simpletransformers) (2.0.4)\n",
      "Requirement already satisfied: urllib3<1.27,>=1.21.1 in /home/xie/.pyenv/versions/3.7.8/lib/python3.7/site-packages (from requests->simpletransformers) (1.26.6)\n",
      "Requirement already satisfied: certifi>=2017.4.17 in /home/xie/.pyenv/versions/3.7.8/lib/python3.7/site-packages (from requests->simpletransformers) (2021.5.30)\n",
      "Requirement already satisfied: idna<4,>=2.5 in /home/xie/.pyenv/versions/3.7.8/lib/python3.7/site-packages (from requests->simpletransformers) (3.2)\n",
      "Requirement already satisfied: pyarrow>=5.0.0 in /home/xie/.pyenv/versions/3.7.8/lib/python3.7/site-packages (from datasets->simpletransformers) (7.0.0)\n",
      "Requirement already satisfied: multiprocess in /home/xie/.pyenv/versions/3.7.8/lib/python3.7/site-packages (from datasets->simpletransformers) (0.70.12.2)\n",
      "Requirement already satisfied: aiohttp in /home/xie/.pyenv/versions/3.7.8/lib/python3.7/site-packages (from datasets->simpletransformers) (3.8.1)\n",
      "Requirement already satisfied: responses<0.19 in /home/xie/.pyenv/versions/3.7.8/lib/python3.7/site-packages (from datasets->simpletransformers) (0.18.0)\n",
      "Requirement already satisfied: dill in /home/xie/.pyenv/versions/3.7.8/lib/python3.7/site-packages (from datasets->simpletransformers) (0.3.4)\n",
      "Requirement already satisfied: xxhash in /home/xie/.pyenv/versions/3.7.8/lib/python3.7/site-packages (from datasets->simpletransformers) (3.0.0)\n",
      "Requirement already satisfied: fsspec[http]>=2021.05.0 in /home/xie/.pyenv/versions/3.7.8/lib/python3.7/site-packages (from datasets->simpletransformers) (2022.3.0)\n",
      "Requirement already satisfied: pytz>=2017.3 in /home/xie/.pyenv/versions/3.7.8/lib/python3.7/site-packages (from pandas->simpletransformers) (2021.1)\n",
      "Requirement already satisfied: threadpoolctl>=2.0.0 in /home/xie/.pyenv/versions/3.7.8/lib/python3.7/site-packages (from scikit-learn->simpletransformers) (2.2.0)\n",
      "Requirement already satisfied: joblib>=0.11 in /home/xie/.pyenv/versions/3.7.8/lib/python3.7/site-packages (from scikit-learn->simpletransformers) (1.0.1)\n",
      "Requirement already satisfied: validators in /home/xie/.pyenv/versions/3.7.8/lib/python3.7/site-packages (from streamlit->simpletransformers) (0.18.2)\n",
      "Requirement already satisfied: cachetools>=4.0 in /home/xie/.pyenv/versions/3.7.8/lib/python3.7/site-packages (from streamlit->simpletransformers) (4.2.2)\n",
      "Requirement already satisfied: blinker in /home/xie/.pyenv/versions/3.7.8/lib/python3.7/site-packages (from streamlit->simpletransformers) (1.4)\n",
      "Requirement already satisfied: tzlocal in /home/xie/.pyenv/versions/3.7.8/lib/python3.7/site-packages (from streamlit->simpletransformers) (4.2)\n",
      "Requirement already satisfied: altair>=3.2.0 in /home/xie/.pyenv/versions/3.7.8/lib/python3.7/site-packages (from streamlit->simpletransformers) (4.2.0)\n",
      "Requirement already satisfied: semver in /home/xie/.pyenv/versions/3.7.8/lib/python3.7/site-packages (from streamlit->simpletransformers) (2.13.0)\n",
      "Requirement already satisfied: pillow>=6.2.0 in /home/xie/.pyenv/versions/3.7.8/lib/python3.7/site-packages (from streamlit->simpletransformers) (8.3.1)\n",
      "Requirement already satisfied: watchdog in /home/xie/.pyenv/versions/3.7.8/lib/python3.7/site-packages (from streamlit->simpletransformers) (2.1.7)\n",
      "Requirement already satisfied: attrs in /home/xie/.pyenv/versions/3.7.8/lib/python3.7/site-packages (from streamlit->simpletransformers) (21.2.0)\n",
      "Requirement already satisfied: typing-extensions in /home/xie/.pyenv/versions/3.7.8/lib/python3.7/site-packages (from streamlit->simpletransformers) (3.7.4.3)\n",
      "Requirement already satisfied: pympler>=0.9 in /home/xie/.pyenv/versions/3.7.8/lib/python3.7/site-packages (from streamlit->simpletransformers) (1.0.1)\n",
      "Requirement already satisfied: pydeck>=0.1.dev5 in /home/xie/.pyenv/versions/3.7.8/lib/python3.7/site-packages (from streamlit->simpletransformers) (0.7.1)\n",
      "Requirement already satisfied: tornado>=5.0 in /home/xie/.pyenv/versions/3.7.8/lib/python3.7/site-packages (from streamlit->simpletransformers) (6.1)\n",
      "Requirement already satisfied: toml in /home/xie/.pyenv/versions/3.7.8/lib/python3.7/site-packages (from streamlit->simpletransformers) (0.10.2)\n"
     ]
    },
    {
     "name": "stdout",
     "output_type": "stream",
     "text": [
      "Requirement already satisfied: grpcio>=1.24.3 in /home/xie/.pyenv/versions/3.7.8/lib/python3.7/site-packages (from tensorboard->simpletransformers) (1.39.0)\n",
      "Requirement already satisfied: absl-py>=0.4 in /home/xie/.pyenv/versions/3.7.8/lib/python3.7/site-packages (from tensorboard->simpletransformers) (0.13.0)\n",
      "Requirement already satisfied: wheel>=0.26 in /home/xie/.pyenv/versions/3.7.8/lib/python3.7/site-packages (from tensorboard->simpletransformers) (0.37.0)\n",
      "Requirement already satisfied: setuptools>=41.0.0 in /home/xie/.pyenv/versions/3.7.8/lib/python3.7/site-packages (from tensorboard->simpletransformers) (47.1.0)\n",
      "Requirement already satisfied: tensorboard-plugin-wit>=1.6.0 in /home/xie/.pyenv/versions/3.7.8/lib/python3.7/site-packages (from tensorboard->simpletransformers) (1.8.0)\n",
      "Requirement already satisfied: google-auth<3,>=1.6.3 in /home/xie/.pyenv/versions/3.7.8/lib/python3.7/site-packages (from tensorboard->simpletransformers) (1.35.0)\n",
      "Requirement already satisfied: tensorboard-data-server<0.7.0,>=0.6.0 in /home/xie/.pyenv/versions/3.7.8/lib/python3.7/site-packages (from tensorboard->simpletransformers) (0.6.1)\n",
      "Requirement already satisfied: werkzeug>=1.0.1 in /home/xie/.pyenv/versions/3.7.8/lib/python3.7/site-packages (from tensorboard->simpletransformers) (2.0.1)\n",
      "Requirement already satisfied: google-auth-oauthlib<0.5,>=0.4.1 in /home/xie/.pyenv/versions/3.7.8/lib/python3.7/site-packages (from tensorboard->simpletransformers) (0.4.5)\n",
      "Requirement already satisfied: markdown>=2.6.8 in /home/xie/.pyenv/versions/3.7.8/lib/python3.7/site-packages (from tensorboard->simpletransformers) (3.3.4)\n",
      "Requirement already satisfied: entrypoints in /home/xie/.pyenv/versions/3.7.8/lib/python3.7/site-packages (from altair>=3.2.0->streamlit->simpletransformers) (0.3)\n",
      "Requirement already satisfied: toolz in /home/xie/.pyenv/versions/3.7.8/lib/python3.7/site-packages (from altair>=3.2.0->streamlit->simpletransformers) (0.11.2)\n",
      "Requirement already satisfied: jsonschema>=3.0 in /home/xie/.pyenv/versions/3.7.8/lib/python3.7/site-packages (from altair>=3.2.0->streamlit->simpletransformers) (3.2.0)\n",
      "Requirement already satisfied: jinja2 in /home/xie/.pyenv/versions/3.7.8/lib/python3.7/site-packages (from altair>=3.2.0->streamlit->simpletransformers) (3.0.1)\n",
      "Requirement already satisfied: gitdb<5,>=4.0.1 in /home/xie/.pyenv/versions/3.7.8/lib/python3.7/site-packages (from GitPython>=1.0.0->wandb>=0.10.32->simpletransformers) (4.0.9)\n",
      "Requirement already satisfied: rsa<5,>=3.1.4 in /home/xie/.pyenv/versions/3.7.8/lib/python3.7/site-packages (from google-auth<3,>=1.6.3->tensorboard->simpletransformers) (4.7.2)\n",
      "Requirement already satisfied: pyasn1-modules>=0.2.1 in /home/xie/.pyenv/versions/3.7.8/lib/python3.7/site-packages (from google-auth<3,>=1.6.3->tensorboard->simpletransformers) (0.2.8)\n",
      "Requirement already satisfied: requests-oauthlib>=0.7.0 in /home/xie/.pyenv/versions/3.7.8/lib/python3.7/site-packages (from google-auth-oauthlib<0.5,>=0.4.1->tensorboard->simpletransformers) (1.3.0)\n",
      "Requirement already satisfied: zipp>=0.5 in /home/xie/.pyenv/versions/3.7.8/lib/python3.7/site-packages (from importlib-metadata->transformers>=4.6.0->simpletransformers) (3.5.0)\n",
      "Requirement already satisfied: pyparsing>=2.0.2 in /home/xie/.pyenv/versions/3.7.8/lib/python3.7/site-packages (from packaging>=20.0->transformers>=4.6.0->simpletransformers) (2.4.7)\n",
      "Requirement already satisfied: ipywidgets>=7.0.0 in /home/xie/.pyenv/versions/3.7.8/lib/python3.7/site-packages (from pydeck>=0.1.dev5->streamlit->simpletransformers) (7.6.5)\n",
      "Requirement already satisfied: ipykernel>=5.1.2 in /home/xie/.pyenv/versions/3.7.8/lib/python3.7/site-packages (from pydeck>=0.1.dev5->streamlit->simpletransformers) (6.2.0)\n",
      "Requirement already satisfied: traitlets>=4.3.2 in /home/xie/.pyenv/versions/3.7.8/lib/python3.7/site-packages (from pydeck>=0.1.dev5->streamlit->simpletransformers) (5.0.5)\n",
      "Requirement already satisfied: aiosignal>=1.1.2 in /home/xie/.pyenv/versions/3.7.8/lib/python3.7/site-packages (from aiohttp->datasets->simpletransformers) (1.2.0)\n",
      "Requirement already satisfied: yarl<2.0,>=1.0 in /home/xie/.pyenv/versions/3.7.8/lib/python3.7/site-packages (from aiohttp->datasets->simpletransformers) (1.7.2)\n",
      "Requirement already satisfied: multidict<7.0,>=4.5 in /home/xie/.pyenv/versions/3.7.8/lib/python3.7/site-packages (from aiohttp->datasets->simpletransformers) (6.0.2)\n",
      "Requirement already satisfied: async-timeout<5.0,>=4.0.0a3 in /home/xie/.pyenv/versions/3.7.8/lib/python3.7/site-packages (from aiohttp->datasets->simpletransformers) (4.0.2)\n",
      "Requirement already satisfied: frozenlist>=1.1.1 in /home/xie/.pyenv/versions/3.7.8/lib/python3.7/site-packages (from aiohttp->datasets->simpletransformers) (1.3.0)\n",
      "Requirement already satisfied: asynctest==0.13.0 in /home/xie/.pyenv/versions/3.7.8/lib/python3.7/site-packages (from aiohttp->datasets->simpletransformers) (0.13.0)\n",
      "Requirement already satisfied: pytz-deprecation-shim in /home/xie/.pyenv/versions/3.7.8/lib/python3.7/site-packages (from tzlocal->streamlit->simpletransformers) (0.1.0.post0)\n",
      "Requirement already satisfied: backports.zoneinfo in /home/xie/.pyenv/versions/3.7.8/lib/python3.7/site-packages (from tzlocal->streamlit->simpletransformers) (0.2.1)\n",
      "Requirement already satisfied: decorator>=3.4.0 in /home/xie/.pyenv/versions/3.7.8/lib/python3.7/site-packages (from validators->streamlit->simpletransformers) (5.0.9)\n",
      "Requirement already satisfied: smmap<6,>=3.0.1 in /home/xie/.pyenv/versions/3.7.8/lib/python3.7/site-packages (from gitdb<5,>=4.0.1->GitPython>=1.0.0->wandb>=0.10.32->simpletransformers) (5.0.0)\n",
      "Requirement already satisfied: ipython<8.0,>=7.23.1 in /home/xie/.pyenv/versions/3.7.8/lib/python3.7/site-packages (from ipykernel>=5.1.2->pydeck>=0.1.dev5->streamlit->simpletransformers) (7.26.0)\n",
      "Requirement already satisfied: jupyter-client<8.0 in /home/xie/.pyenv/versions/3.7.8/lib/python3.7/site-packages (from ipykernel>=5.1.2->pydeck>=0.1.dev5->streamlit->simpletransformers) (7.0.0)\n",
      "Requirement already satisfied: argcomplete>=1.12.3 in /home/xie/.pyenv/versions/3.7.8/lib/python3.7/site-packages (from ipykernel>=5.1.2->pydeck>=0.1.dev5->streamlit->simpletransformers) (1.12.3)\n",
      "Requirement already satisfied: debugpy<2.0,>=1.0.0 in /home/xie/.pyenv/versions/3.7.8/lib/python3.7/site-packages (from ipykernel>=5.1.2->pydeck>=0.1.dev5->streamlit->simpletransformers) (1.4.1)\n",
      "Requirement already satisfied: matplotlib-inline<0.2.0,>=0.1.0 in /home/xie/.pyenv/versions/3.7.8/lib/python3.7/site-packages (from ipykernel>=5.1.2->pydeck>=0.1.dev5->streamlit->simpletransformers) (0.1.2)\n",
      "Requirement already satisfied: widgetsnbextension~=3.5.0 in /home/xie/.pyenv/versions/3.7.8/lib/python3.7/site-packages (from ipywidgets>=7.0.0->pydeck>=0.1.dev5->streamlit->simpletransformers) (3.5.1)\n",
      "Requirement already satisfied: nbformat>=4.2.0 in /home/xie/.pyenv/versions/3.7.8/lib/python3.7/site-packages (from ipywidgets>=7.0.0->pydeck>=0.1.dev5->streamlit->simpletransformers) (5.1.3)\n",
      "Requirement already satisfied: jupyterlab-widgets>=1.0.0 in /home/xie/.pyenv/versions/3.7.8/lib/python3.7/site-packages (from ipywidgets>=7.0.0->pydeck>=0.1.dev5->streamlit->simpletransformers) (1.0.2)\n",
      "Requirement already satisfied: ipython-genutils~=0.2.0 in /home/xie/.pyenv/versions/3.7.8/lib/python3.7/site-packages (from ipywidgets>=7.0.0->pydeck>=0.1.dev5->streamlit->simpletransformers) (0.2.0)\n",
      "Requirement already satisfied: MarkupSafe>=2.0 in /home/xie/.pyenv/versions/3.7.8/lib/python3.7/site-packages (from jinja2->altair>=3.2.0->streamlit->simpletransformers) (2.0.1)\n",
      "Requirement already satisfied: pyrsistent>=0.14.0 in /home/xie/.pyenv/versions/3.7.8/lib/python3.7/site-packages (from jsonschema>=3.0->altair>=3.2.0->streamlit->simpletransformers) (0.18.0)\n",
      "Requirement already satisfied: pyasn1<0.5.0,>=0.4.6 in /home/xie/.pyenv/versions/3.7.8/lib/python3.7/site-packages (from pyasn1-modules>=0.2.1->google-auth<3,>=1.6.3->tensorboard->simpletransformers) (0.4.8)\n",
      "Requirement already satisfied: oauthlib>=3.0.0 in /home/xie/.pyenv/versions/3.7.8/lib/python3.7/site-packages (from requests-oauthlib>=0.7.0->google-auth-oauthlib<0.5,>=0.4.1->tensorboard->simpletransformers) (3.1.1)\n"
     ]
    },
    {
     "name": "stdout",
     "output_type": "stream",
     "text": [
      "Requirement already satisfied: tzdata in /home/xie/.pyenv/versions/3.7.8/lib/python3.7/site-packages (from pytz-deprecation-shim->tzlocal->streamlit->simpletransformers) (2022.1)\n",
      "Requirement already satisfied: prompt-toolkit!=3.0.0,!=3.0.1,<3.1.0,>=2.0.0 in /home/xie/.pyenv/versions/3.7.8/lib/python3.7/site-packages (from ipython<8.0,>=7.23.1->ipykernel>=5.1.2->pydeck>=0.1.dev5->streamlit->simpletransformers) (3.0.19)\n",
      "Requirement already satisfied: pexpect>4.3 in /home/xie/.pyenv/versions/3.7.8/lib/python3.7/site-packages (from ipython<8.0,>=7.23.1->ipykernel>=5.1.2->pydeck>=0.1.dev5->streamlit->simpletransformers) (4.8.0)\n",
      "Requirement already satisfied: backcall in /home/xie/.pyenv/versions/3.7.8/lib/python3.7/site-packages (from ipython<8.0,>=7.23.1->ipykernel>=5.1.2->pydeck>=0.1.dev5->streamlit->simpletransformers) (0.2.0)\n",
      "Requirement already satisfied: pickleshare in /home/xie/.pyenv/versions/3.7.8/lib/python3.7/site-packages (from ipython<8.0,>=7.23.1->ipykernel>=5.1.2->pydeck>=0.1.dev5->streamlit->simpletransformers) (0.7.5)\n",
      "Requirement already satisfied: jedi>=0.16 in /home/xie/.pyenv/versions/3.7.8/lib/python3.7/site-packages (from ipython<8.0,>=7.23.1->ipykernel>=5.1.2->pydeck>=0.1.dev5->streamlit->simpletransformers) (0.18.0)\n",
      "Requirement already satisfied: pygments in /home/xie/.pyenv/versions/3.7.8/lib/python3.7/site-packages (from ipython<8.0,>=7.23.1->ipykernel>=5.1.2->pydeck>=0.1.dev5->streamlit->simpletransformers) (2.10.0)\n",
      "Requirement already satisfied: jupyter-core>=4.6.0 in /home/xie/.pyenv/versions/3.7.8/lib/python3.7/site-packages (from jupyter-client<8.0->ipykernel>=5.1.2->pydeck>=0.1.dev5->streamlit->simpletransformers) (4.7.1)\n",
      "Requirement already satisfied: pyzmq>=13 in /home/xie/.pyenv/versions/3.7.8/lib/python3.7/site-packages (from jupyter-client<8.0->ipykernel>=5.1.2->pydeck>=0.1.dev5->streamlit->simpletransformers) (22.2.1)\n",
      "Requirement already satisfied: nest-asyncio>=1.5 in /home/xie/.pyenv/versions/3.7.8/lib/python3.7/site-packages (from jupyter-client<8.0->ipykernel>=5.1.2->pydeck>=0.1.dev5->streamlit->simpletransformers) (1.5.1)\n",
      "Requirement already satisfied: notebook>=4.4.1 in /home/xie/.pyenv/versions/3.7.8/lib/python3.7/site-packages (from widgetsnbextension~=3.5.0->ipywidgets>=7.0.0->pydeck>=0.1.dev5->streamlit->simpletransformers) (6.4.3)\n",
      "Requirement already satisfied: parso<0.9.0,>=0.8.0 in /home/xie/.pyenv/versions/3.7.8/lib/python3.7/site-packages (from jedi>=0.16->ipython<8.0,>=7.23.1->ipykernel>=5.1.2->pydeck>=0.1.dev5->streamlit->simpletransformers) (0.8.2)\n",
      "Requirement already satisfied: terminado>=0.8.3 in /home/xie/.pyenv/versions/3.7.8/lib/python3.7/site-packages (from notebook>=4.4.1->widgetsnbextension~=3.5.0->ipywidgets>=7.0.0->pydeck>=0.1.dev5->streamlit->simpletransformers) (0.11.1)\n",
      "Requirement already satisfied: argon2-cffi in /home/xie/.pyenv/versions/3.7.8/lib/python3.7/site-packages (from notebook>=4.4.1->widgetsnbextension~=3.5.0->ipywidgets>=7.0.0->pydeck>=0.1.dev5->streamlit->simpletransformers) (20.1.0)\n",
      "Requirement already satisfied: nbconvert in /home/xie/.pyenv/versions/3.7.8/lib/python3.7/site-packages (from notebook>=4.4.1->widgetsnbextension~=3.5.0->ipywidgets>=7.0.0->pydeck>=0.1.dev5->streamlit->simpletransformers) (6.1.0)\n",
      "Requirement already satisfied: Send2Trash>=1.5.0 in /home/xie/.pyenv/versions/3.7.8/lib/python3.7/site-packages (from notebook>=4.4.1->widgetsnbextension~=3.5.0->ipywidgets>=7.0.0->pydeck>=0.1.dev5->streamlit->simpletransformers) (1.8.0)\n",
      "Requirement already satisfied: prometheus-client in /home/xie/.pyenv/versions/3.7.8/lib/python3.7/site-packages (from notebook>=4.4.1->widgetsnbextension~=3.5.0->ipywidgets>=7.0.0->pydeck>=0.1.dev5->streamlit->simpletransformers) (0.11.0)\n",
      "Requirement already satisfied: ptyprocess>=0.5 in /home/xie/.pyenv/versions/3.7.8/lib/python3.7/site-packages (from pexpect>4.3->ipython<8.0,>=7.23.1->ipykernel>=5.1.2->pydeck>=0.1.dev5->streamlit->simpletransformers) (0.7.0)\n",
      "Requirement already satisfied: wcwidth in /home/xie/.pyenv/versions/3.7.8/lib/python3.7/site-packages (from prompt-toolkit!=3.0.0,!=3.0.1,<3.1.0,>=2.0.0->ipython<8.0,>=7.23.1->ipykernel>=5.1.2->pydeck>=0.1.dev5->streamlit->simpletransformers) (0.2.5)\n",
      "Requirement already satisfied: cffi>=1.0.0 in /home/xie/.pyenv/versions/3.7.8/lib/python3.7/site-packages (from argon2-cffi->notebook>=4.4.1->widgetsnbextension~=3.5.0->ipywidgets>=7.0.0->pydeck>=0.1.dev5->streamlit->simpletransformers) (1.14.6)\n",
      "Requirement already satisfied: defusedxml in /home/xie/.pyenv/versions/3.7.8/lib/python3.7/site-packages (from nbconvert->notebook>=4.4.1->widgetsnbextension~=3.5.0->ipywidgets>=7.0.0->pydeck>=0.1.dev5->streamlit->simpletransformers) (0.7.1)\n",
      "Requirement already satisfied: bleach in /home/xie/.pyenv/versions/3.7.8/lib/python3.7/site-packages (from nbconvert->notebook>=4.4.1->widgetsnbextension~=3.5.0->ipywidgets>=7.0.0->pydeck>=0.1.dev5->streamlit->simpletransformers) (4.0.0)\n",
      "Requirement already satisfied: jupyterlab-pygments in /home/xie/.pyenv/versions/3.7.8/lib/python3.7/site-packages (from nbconvert->notebook>=4.4.1->widgetsnbextension~=3.5.0->ipywidgets>=7.0.0->pydeck>=0.1.dev5->streamlit->simpletransformers) (0.1.2)\n",
      "Requirement already satisfied: testpath in /home/xie/.pyenv/versions/3.7.8/lib/python3.7/site-packages (from nbconvert->notebook>=4.4.1->widgetsnbextension~=3.5.0->ipywidgets>=7.0.0->pydeck>=0.1.dev5->streamlit->simpletransformers) (0.5.0)\n",
      "Requirement already satisfied: nbclient<0.6.0,>=0.5.0 in /home/xie/.pyenv/versions/3.7.8/lib/python3.7/site-packages (from nbconvert->notebook>=4.4.1->widgetsnbextension~=3.5.0->ipywidgets>=7.0.0->pydeck>=0.1.dev5->streamlit->simpletransformers) (0.5.4)\n",
      "Requirement already satisfied: pandocfilters>=1.4.1 in /home/xie/.pyenv/versions/3.7.8/lib/python3.7/site-packages (from nbconvert->notebook>=4.4.1->widgetsnbextension~=3.5.0->ipywidgets>=7.0.0->pydeck>=0.1.dev5->streamlit->simpletransformers) (1.4.3)\n",
      "Requirement already satisfied: mistune<2,>=0.8.1 in /home/xie/.pyenv/versions/3.7.8/lib/python3.7/site-packages (from nbconvert->notebook>=4.4.1->widgetsnbextension~=3.5.0->ipywidgets>=7.0.0->pydeck>=0.1.dev5->streamlit->simpletransformers) (0.8.4)\n",
      "Requirement already satisfied: pycparser in /home/xie/.pyenv/versions/3.7.8/lib/python3.7/site-packages (from cffi>=1.0.0->argon2-cffi->notebook>=4.4.1->widgetsnbextension~=3.5.0->ipywidgets>=7.0.0->pydeck>=0.1.dev5->streamlit->simpletransformers) (2.20)\n",
      "Requirement already satisfied: webencodings in /home/xie/.pyenv/versions/3.7.8/lib/python3.7/site-packages (from bleach->nbconvert->notebook>=4.4.1->widgetsnbextension~=3.5.0->ipywidgets>=7.0.0->pydeck>=0.1.dev5->streamlit->simpletransformers) (0.5.1)\n",
      "\u001b[33mWARNING: Ignoring invalid distribution -ransformers (/home/xie/.pyenv/versions/3.7.8/lib/python3.7/site-packages)\u001b[0m\u001b[33m\n",
      "\u001b[0m\u001b[33mWARNING: Ignoring invalid distribution -ransformers (/home/xie/.pyenv/versions/3.7.8/lib/python3.7/site-packages)\u001b[0m\u001b[33m\n",
      "\u001b[0m\u001b[33mWARNING: Ignoring invalid distribution -ransformers (/home/xie/.pyenv/versions/3.7.8/lib/python3.7/site-packages)\u001b[0m\u001b[33m\n",
      "\u001b[0m\u001b[33mWARNING: Ignoring invalid distribution -ransformers (/home/xie/.pyenv/versions/3.7.8/lib/python3.7/site-packages)\u001b[0m\u001b[33m\n",
      "\u001b[0m\n",
      "\u001b[1m[\u001b[0m\u001b[34;49mnotice\u001b[0m\u001b[1;39;49m]\u001b[0m\u001b[39;49m A new release of pip available: \u001b[0m\u001b[31;49m22.2.2\u001b[0m\u001b[39;49m -> \u001b[0m\u001b[32;49m22.3.1\u001b[0m\n",
      "\u001b[1m[\u001b[0m\u001b[34;49mnotice\u001b[0m\u001b[1;39;49m]\u001b[0m\u001b[39;49m To update, run: \u001b[0m\u001b[32;49mpip install --upgrade pip\u001b[0m\n"
     ]
    }
   ],
   "source": [
    "# Installing simpletransformers here \n",
    "# because of conflicting transformer version needed by GoEmotions\n",
    "!pip install simpletransformers"
   ]
  },
  {
   "cell_type": "code",
   "execution_count": 2,
   "id": "97761259",
   "metadata": {},
   "outputs": [],
   "source": [
    "# Activates CUDA for GPU use for fine-tuning T5 models\n",
    "import torch\n",
    "\n",
    "device = torch.device(\"cuda\" if torch.cuda.is_available() else \"cpu\")\n",
    "device\n",
    "str(torch.cuda.memory_allocated(device)/1000000 ) + 'M'\n",
    "torch.multiprocessing.set_sharing_strategy('file_system')"
   ]
  },
  {
   "cell_type": "code",
   "execution_count": 3,
   "id": "974b3f8c",
   "metadata": {},
   "outputs": [
    {
     "name": "stdout",
     "output_type": "stream",
     "text": [
      "Dataset to train model (mix, twit0.825 or combined):  mix\n",
      "Regular or limited training (regular or limited): regular\n",
      "Number of training epochs: 3\n"
     ]
    }
   ],
   "source": [
    "# Allows user input for:\n",
    "# 1. Data set to train model\n",
    "# 2. Training type determines if the training process uses \n",
    "# a) The larger Training set\n",
    "# b) The smaller Test set\n",
    "# 3. Number of fine-tuning Epochs \n",
    "model_name = input('Dataset to train model (mix, twit0.825 or combined):  ')\n",
    "training_type = input('Regular or limited training (regular or limited): ')\n",
    "epochs = int(input('Number of training epochs: '))\n",
    "\n",
    "if training_type.lower() == 'regular':\n",
    "    train_set = 'training'\n",
    "    eval_set = 'testing'\n",
    "elif training_type.lower() == 'limited':\n",
    "    train_set = 'testing'\n",
    "    eval_set = 'training'\n",
    "else:\n",
    "    print('Please enter a valid training type')"
   ]
  },
  {
   "cell_type": "code",
   "execution_count": null,
   "id": "77f89717",
   "metadata": {},
   "outputs": [],
   "source": [
    "# Fine-tuning T5 by the specified data set, training type, and number of epochs specified above\n",
    "import pandas as pd\n",
    "from simpletransformers.t5 import T5Model\n",
    "\n",
    "training_df = pd.read_csv(f'emotion-labeled-data/{model_name}/{model_name}-{train_set}_t5.tsv', sep=\"\\t\").astype(str)\n",
    "testing_df = pd.read_csv(f'emotion-labeled-data/{model_name}/{model_name}-{eval_set}_t5.tsv', sep=\"\\t\").astype(str)\n",
    "\n",
    "\n",
    "# General parameters for fine-tuning\n",
    "model_args = {\n",
    "    \"max_seq_length\": 196,\n",
    "    \"train_batch_size\": 6,\n",
    "    \"eval_batch_size\": 32,\n",
    "    \"num_train_epochs\": epochs,\n",
    "    \"evaluate_during_training\": True,\n",
    "    \"evaluate_during_training_steps\": 15000,\n",
    "    \"evaluate_during_training_verbose\": True,\n",
    "    \n",
    "    \"use_multiprocessing\": False,\n",
    "    \"fp16\": False,\n",
    "\n",
    "    \"save_steps\": -1,\n",
    "    \"save_eval_checkpoints\": False,\n",
    "    \"save_model_every_epoch\": False,\n",
    "\n",
    "    \"reprocess_input_data\": True,\n",
    "    \"overwrite_output_dir\": True,\n",
    "    \n",
    "    # Creates special directory to hold each new model\n",
    "    \"output_dir\": f\"{training_type}-{model_name}-{epochs}epochs\", \n",
    "\n",
    "}\n",
    "\n",
    "\n",
    "# Use t5-base as the model to be fine-tuned\n",
    "model = T5Model(\"t5\", \"t5-base\", args=model_args)\n",
    "\n",
    "# Fine-tuning the T5 model\n",
    "model.train_model(training_df, eval_data=testing_df)"
   ]
  },
  {
   "cell_type": "code",
   "execution_count": null,
   "id": "d285505e",
   "metadata": {},
   "outputs": [],
   "source": []
  },
  {
   "cell_type": "code",
   "execution_count": 4,
   "id": "742a65d9",
   "metadata": {},
   "outputs": [
    {
     "data": {
      "application/vnd.jupyter.widget-view+json": {
       "model_id": "3df6628211dd4a2bab35ad0b2306b1af",
       "version_major": 2,
       "version_minor": 0
      },
      "text/plain": [
       "  0%|          | 0/7812 [00:00<?, ?it/s]"
      ]
     },
     "metadata": {},
     "output_type": "display_data"
    },
    {
     "name": "stderr",
     "output_type": "stream",
     "text": [
      "/home/xie/.pyenv/versions/3.7.8/lib/python3.7/site-packages/transformers/optimization.py:310: FutureWarning: This implementation of AdamW is deprecated and will be removed in a future version. Use the PyTorch implementation torch.optim.AdamW instead, or set `no_deprecation_warning=True` to disable this warning\n",
      "  FutureWarning,\n"
     ]
    },
    {
     "data": {
      "application/vnd.jupyter.widget-view+json": {
       "model_id": "709ae13e6ed746968456488b6e3c7f33",
       "version_major": 2,
       "version_minor": 0
      },
      "text/plain": [
       "Epoch:   0%|          | 0/3 [00:00<?, ?it/s]"
      ]
     },
     "metadata": {},
     "output_type": "display_data"
    },
    {
     "data": {
      "application/vnd.jupyter.widget-view+json": {
       "model_id": "f1f78b81958d40d5a36aaa9ef2792ac9",
       "version_major": 2,
       "version_minor": 0
      },
      "text/plain": [
       "Running Epoch 0 of 3:   0%|          | 0/1953 [00:00<?, ?it/s]"
      ]
     },
     "metadata": {},
     "output_type": "display_data"
    },
    {
     "name": "stdout",
     "output_type": "stream",
     "text": [
      "huggingface/tokenizers: The current process just got forked, after parallelism has already been used. Disabling parallelism to avoid deadlocks...\n",
      "To disable this warning, you can either:\n",
      "\t- Avoid using `tokenizers` before the fork if possible\n",
      "\t- Explicitly set the environment variable TOKENIZERS_PARALLELISM=(true | false)\n",
      "huggingface/tokenizers: The current process just got forked, after parallelism has already been used. Disabling parallelism to avoid deadlocks...\n",
      "To disable this warning, you can either:\n",
      "\t- Avoid using `tokenizers` before the fork if possible\n",
      "\t- Explicitly set the environment variable TOKENIZERS_PARALLELISM=(true | false)\n",
      "huggingface/tokenizers: The current process just got forked, after parallelism has already been used. Disabling parallelism to avoid deadlocks...\n",
      "To disable this warning, you can either:\n",
      "\t- Avoid using `tokenizers` before the fork if possible\n",
      "\t- Explicitly set the environment variable TOKENIZERS_PARALLELISM=(true | false)\n",
      "huggingface/tokenizers: The current process just got forked, after parallelism has already been used. Disabling parallelism to avoid deadlocks...\n",
      "To disable this warning, you can either:\n",
      "\t- Avoid using `tokenizers` before the fork if possible\n",
      "\t- Explicitly set the environment variable TOKENIZERS_PARALLELISM=(true | false)\n",
      "huggingface/tokenizers: The current process just got forked, after parallelism has already been used. Disabling parallelism to avoid deadlocks...\n",
      "To disable this warning, you can either:\n",
      "\t- Avoid using `tokenizers` before the fork if possible\n",
      "\t- Explicitly set the environment variable TOKENIZERS_PARALLELISM=(true | false)\n",
      "huggingface/tokenizers: The current process just got forked, after parallelism has already been used. Disabling parallelism to avoid deadlocks...\n",
      "To disable this warning, you can either:\n",
      "\t- Avoid using `tokenizers` before the fork if possible\n",
      "\t- Explicitly set the environment variable TOKENIZERS_PARALLELISM=(true | false)\n",
      "huggingface/tokenizers: The current process just got forked, after parallelism has already been used. Disabling parallelism to avoid deadlocks...\n",
      "To disable this warning, you can either:\n",
      "\t- Avoid using `tokenizers` before the fork if possible\n",
      "\t- Explicitly set the environment variable TOKENIZERS_PARALLELISM=(true | false)\n",
      "huggingface/tokenizers: The current process just got forked, after parallelism has already been used. Disabling parallelism to avoid deadlocks...\n",
      "To disable this warning, you can either:\n",
      "\t- Avoid using `tokenizers` before the fork if possible\n",
      "\t- Explicitly set the environment variable TOKENIZERS_PARALLELISM=(true | false)\n",
      "huggingface/tokenizers: The current process just got forked, after parallelism has already been used. Disabling parallelism to avoid deadlocks...\n",
      "To disable this warning, you can either:\n",
      "\t- Avoid using `tokenizers` before the fork if possible\n",
      "\t- Explicitly set the environment variable TOKENIZERS_PARALLELISM=(true | false)\n",
      "huggingface/tokenizers: The current process just got forked, after parallelism has already been used. Disabling parallelism to avoid deadlocks...\n",
      "To disable this warning, you can either:\n",
      "\t- Avoid using `tokenizers` before the fork if possible\n",
      "\t- Explicitly set the environment variable TOKENIZERS_PARALLELISM=(true | false)\n",
      "huggingface/tokenizers: The current process just got forked, after parallelism has already been used. Disabling parallelism to avoid deadlocks...\n",
      "To disable this warning, you can either:\n",
      "\t- Avoid using `tokenizers` before the fork if possible\n",
      "\t- Explicitly set the environment variable TOKENIZERS_PARALLELISM=(true | false)\n",
      "huggingface/tokenizers: The current process just got forked, after parallelism has already been used. Disabling parallelism to avoid deadlocks...\n",
      "To disable this warning, you can either:\n",
      "\t- Avoid using `tokenizers` before the fork if possible\n",
      "\t- Explicitly set the environment variable TOKENIZERS_PARALLELISM=(true | false)\n",
      "huggingface/tokenizers: The current process just got forked, after parallelism has already been used. Disabling parallelism to avoid deadlocks...\n",
      "To disable this warning, you can either:\n",
      "\t- Avoid using `tokenizers` before the fork if possible\n",
      "\t- Explicitly set the environment variable TOKENIZERS_PARALLELISM=(true | false)\n",
      "huggingface/tokenizers: The current process just got forked, after parallelism has already been used. Disabling parallelism to avoid deadlocks...\n",
      "To disable this warning, you can either:\n",
      "\t- Avoid using `tokenizers` before the fork if possible\n",
      "\t- Explicitly set the environment variable TOKENIZERS_PARALLELISM=(true | false)\n"
     ]
    },
    {
     "data": {
      "application/vnd.jupyter.widget-view+json": {
       "model_id": "d68fd5176c434807a523b7e0879fef2d",
       "version_major": 2,
       "version_minor": 0
      },
      "text/plain": [
       "  0%|          | 0/2606 [00:00<?, ?it/s]"
      ]
     },
     "metadata": {},
     "output_type": "display_data"
    },
    {
     "data": {
      "application/vnd.jupyter.widget-view+json": {
       "model_id": "24d5518e4def461faf2657af25f654b2",
       "version_major": 2,
       "version_minor": 0
      },
      "text/plain": [
       "Running Epoch 1 of 3:   0%|          | 0/1953 [00:00<?, ?it/s]"
      ]
     },
     "metadata": {},
     "output_type": "display_data"
    },
    {
     "name": "stdout",
     "output_type": "stream",
     "text": [
      "huggingface/tokenizers: The current process just got forked, after parallelism has already been used. Disabling parallelism to avoid deadlocks...\n",
      "To disable this warning, you can either:\n",
      "\t- Avoid using `tokenizers` before the fork if possible\n",
      "\t- Explicitly set the environment variable TOKENIZERS_PARALLELISM=(true | false)\n",
      "huggingface/tokenizers: The current process just got forked, after parallelism has already been used. Disabling parallelism to avoid deadlocks...\n",
      "To disable this warning, you can either:\n",
      "\t- Avoid using `tokenizers` before the fork if possible\n",
      "\t- Explicitly set the environment variable TOKENIZERS_PARALLELISM=(true | false)\n",
      "huggingface/tokenizers: The current process just got forked, after parallelism has already been used. Disabling parallelism to avoid deadlocks...\n",
      "To disable this warning, you can either:\n",
      "\t- Avoid using `tokenizers` before the fork if possible\n",
      "\t- Explicitly set the environment variable TOKENIZERS_PARALLELISM=(true | false)\n",
      "huggingface/tokenizers: The current process just got forked, after parallelism has already been used. Disabling parallelism to avoid deadlocks...\n",
      "To disable this warning, you can either:\n",
      "\t- Avoid using `tokenizers` before the fork if possible\n",
      "\t- Explicitly set the environment variable TOKENIZERS_PARALLELISM=(true | false)\n",
      "huggingface/tokenizers: The current process just got forked, after parallelism has already been used. Disabling parallelism to avoid deadlocks...\n",
      "To disable this warning, you can either:\n",
      "\t- Avoid using `tokenizers` before the fork if possible\n",
      "\t- Explicitly set the environment variable TOKENIZERS_PARALLELISM=(true | false)\n",
      "huggingface/tokenizers: The current process just got forked, after parallelism has already been used. Disabling parallelism to avoid deadlocks...\n",
      "To disable this warning, you can either:\n",
      "\t- Avoid using `tokenizers` before the fork if possible\n",
      "\t- Explicitly set the environment variable TOKENIZERS_PARALLELISM=(true | false)\n",
      "huggingface/tokenizers: The current process just got forked, after parallelism has already been used. Disabling parallelism to avoid deadlocks...\n",
      "To disable this warning, you can either:\n",
      "\t- Avoid using `tokenizers` before the fork if possible\n",
      "\t- Explicitly set the environment variable TOKENIZERS_PARALLELISM=(true | false)\n",
      "huggingface/tokenizers: The current process just got forked, after parallelism has already been used. Disabling parallelism to avoid deadlocks...\n",
      "To disable this warning, you can either:\n",
      "\t- Avoid using `tokenizers` before the fork if possible\n",
      "\t- Explicitly set the environment variable TOKENIZERS_PARALLELISM=(true | false)\n",
      "huggingface/tokenizers: The current process just got forked, after parallelism has already been used. Disabling parallelism to avoid deadlocks...\n",
      "To disable this warning, you can either:\n",
      "\t- Avoid using `tokenizers` before the fork if possible\n",
      "\t- Explicitly set the environment variable TOKENIZERS_PARALLELISM=(true | false)\n",
      "huggingface/tokenizers: The current process just got forked, after parallelism has already been used. Disabling parallelism to avoid deadlocks...\n",
      "To disable this warning, you can either:\n",
      "\t- Avoid using `tokenizers` before the fork if possible\n",
      "\t- Explicitly set the environment variable TOKENIZERS_PARALLELISM=(true | false)\n",
      "huggingface/tokenizers: The current process just got forked, after parallelism has already been used. Disabling parallelism to avoid deadlocks...\n",
      "To disable this warning, you can either:\n",
      "\t- Avoid using `tokenizers` before the fork if possible\n",
      "\t- Explicitly set the environment variable TOKENIZERS_PARALLELISM=(true | false)\n",
      "huggingface/tokenizers: The current process just got forked, after parallelism has already been used. Disabling parallelism to avoid deadlocks...\n",
      "To disable this warning, you can either:\n",
      "\t- Avoid using `tokenizers` before the fork if possible\n",
      "\t- Explicitly set the environment variable TOKENIZERS_PARALLELISM=(true | false)\n",
      "huggingface/tokenizers: The current process just got forked, after parallelism has already been used. Disabling parallelism to avoid deadlocks...\n",
      "To disable this warning, you can either:\n",
      "\t- Avoid using `tokenizers` before the fork if possible\n",
      "\t- Explicitly set the environment variable TOKENIZERS_PARALLELISM=(true | false)\n",
      "huggingface/tokenizers: The current process just got forked, after parallelism has already been used. Disabling parallelism to avoid deadlocks...\n",
      "To disable this warning, you can either:\n",
      "\t- Avoid using `tokenizers` before the fork if possible\n",
      "\t- Explicitly set the environment variable TOKENIZERS_PARALLELISM=(true | false)\n"
     ]
    },
    {
     "data": {
      "application/vnd.jupyter.widget-view+json": {
       "model_id": "f18922746ac94ab6a4e657730fcd3176",
       "version_major": 2,
       "version_minor": 0
      },
      "text/plain": [
       "  0%|          | 0/2606 [00:00<?, ?it/s]"
      ]
     },
     "metadata": {},
     "output_type": "display_data"
    },
    {
     "data": {
      "application/vnd.jupyter.widget-view+json": {
       "model_id": "a8169d2a93254a26a0430b4aa2169d70",
       "version_major": 2,
       "version_minor": 0
      },
      "text/plain": [
       "Running Epoch 2 of 3:   0%|          | 0/1953 [00:00<?, ?it/s]"
      ]
     },
     "metadata": {},
     "output_type": "display_data"
    },
    {
     "name": "stdout",
     "output_type": "stream",
     "text": [
      "huggingface/tokenizers: The current process just got forked, after parallelism has already been used. Disabling parallelism to avoid deadlocks...\n",
      "To disable this warning, you can either:\n",
      "\t- Avoid using `tokenizers` before the fork if possible\n",
      "\t- Explicitly set the environment variable TOKENIZERS_PARALLELISM=(true | false)\n",
      "huggingface/tokenizers: The current process just got forked, after parallelism has already been used. Disabling parallelism to avoid deadlocks...\n",
      "To disable this warning, you can either:\n",
      "\t- Avoid using `tokenizers` before the fork if possible\n",
      "\t- Explicitly set the environment variable TOKENIZERS_PARALLELISM=(true | false)\n",
      "huggingface/tokenizers: The current process just got forked, after parallelism has already been used. Disabling parallelism to avoid deadlocks...\n",
      "To disable this warning, you can either:\n",
      "\t- Avoid using `tokenizers` before the fork if possible\n",
      "\t- Explicitly set the environment variable TOKENIZERS_PARALLELISM=(true | false)\n",
      "huggingface/tokenizers: The current process just got forked, after parallelism has already been used. Disabling parallelism to avoid deadlocks...\n",
      "To disable this warning, you can either:\n",
      "\t- Avoid using `tokenizers` before the fork if possible\n",
      "\t- Explicitly set the environment variable TOKENIZERS_PARALLELISM=(true | false)\n",
      "huggingface/tokenizers: The current process just got forked, after parallelism has already been used. Disabling parallelism to avoid deadlocks...\n",
      "To disable this warning, you can either:\n",
      "\t- Avoid using `tokenizers` before the fork if possible\n",
      "\t- Explicitly set the environment variable TOKENIZERS_PARALLELISM=(true | false)\n",
      "huggingface/tokenizers: The current process just got forked, after parallelism has already been used. Disabling parallelism to avoid deadlocks...\n",
      "To disable this warning, you can either:\n",
      "\t- Avoid using `tokenizers` before the fork if possible\n",
      "\t- Explicitly set the environment variable TOKENIZERS_PARALLELISM=(true | false)\n",
      "huggingface/tokenizers: The current process just got forked, after parallelism has already been used. Disabling parallelism to avoid deadlocks...\n",
      "To disable this warning, you can either:\n",
      "\t- Avoid using `tokenizers` before the fork if possible\n",
      "\t- Explicitly set the environment variable TOKENIZERS_PARALLELISM=(true | false)\n",
      "huggingface/tokenizers: The current process just got forked, after parallelism has already been used. Disabling parallelism to avoid deadlocks...\n",
      "To disable this warning, you can either:\n",
      "\t- Avoid using `tokenizers` before the fork if possible\n",
      "\t- Explicitly set the environment variable TOKENIZERS_PARALLELISM=(true | false)\n",
      "huggingface/tokenizers: The current process just got forked, after parallelism has already been used. Disabling parallelism to avoid deadlocks...\n",
      "To disable this warning, you can either:\n",
      "\t- Avoid using `tokenizers` before the fork if possible\n",
      "\t- Explicitly set the environment variable TOKENIZERS_PARALLELISM=(true | false)\n",
      "huggingface/tokenizers: The current process just got forked, after parallelism has already been used. Disabling parallelism to avoid deadlocks...\n",
      "To disable this warning, you can either:\n",
      "\t- Avoid using `tokenizers` before the fork if possible\n",
      "\t- Explicitly set the environment variable TOKENIZERS_PARALLELISM=(true | false)\n",
      "huggingface/tokenizers: The current process just got forked, after parallelism has already been used. Disabling parallelism to avoid deadlocks...\n",
      "To disable this warning, you can either:\n",
      "\t- Avoid using `tokenizers` before the fork if possible\n",
      "\t- Explicitly set the environment variable TOKENIZERS_PARALLELISM=(true | false)\n",
      "huggingface/tokenizers: The current process just got forked, after parallelism has already been used. Disabling parallelism to avoid deadlocks...\n",
      "To disable this warning, you can either:\n",
      "\t- Avoid using `tokenizers` before the fork if possible\n",
      "\t- Explicitly set the environment variable TOKENIZERS_PARALLELISM=(true | false)\n",
      "huggingface/tokenizers: The current process just got forked, after parallelism has already been used. Disabling parallelism to avoid deadlocks...\n",
      "To disable this warning, you can either:\n",
      "\t- Avoid using `tokenizers` before the fork if possible\n",
      "\t- Explicitly set the environment variable TOKENIZERS_PARALLELISM=(true | false)\n",
      "huggingface/tokenizers: The current process just got forked, after parallelism has already been used. Disabling parallelism to avoid deadlocks...\n",
      "To disable this warning, you can either:\n",
      "\t- Avoid using `tokenizers` before the fork if possible\n",
      "\t- Explicitly set the environment variable TOKENIZERS_PARALLELISM=(true | false)\n"
     ]
    },
    {
     "data": {
      "application/vnd.jupyter.widget-view+json": {
       "model_id": "34fa2f35f8a54a2db0c4e5a6f806e18c",
       "version_major": 2,
       "version_minor": 0
      },
      "text/plain": [
       "  0%|          | 0/2606 [00:00<?, ?it/s]"
      ]
     },
     "metadata": {},
     "output_type": "display_data"
    },
    {
     "data": {
      "text/plain": [
       "(5859,\n",
       " {'global_step': [1953, 3906, 5859],\n",
       "  'eval_loss': [1.5691584130612815, 1.4175928380431198, 1.3930936615641525],\n",
       "  'train_loss': [2.1685407161712646, 1.0780614614486694, 1.3469288349151611]})"
      ]
     },
     "execution_count": 4,
     "metadata": {},
     "output_type": "execute_result"
    }
   ],
   "source": [
    "# Fine-tuning BART by the specified data set, training type, and number of epochs specified above\n",
    "import pandas as pd\n",
    "from simpletransformers.seq2seq import Seq2SeqModel, Seq2SeqArgs\n",
    "\n",
    "training_df = pd.read_csv(f'emotion-labeled-data/{model_name}/{model_name}-{train_set}_t5.tsv', sep=\"\\t\").astype(str)\n",
    "testing_df = pd.read_csv(f'emotion-labeled-data/{model_name}/{model_name}-{eval_set}_t5.tsv', sep=\"\\t\").astype(str)\n",
    "\n",
    "\n",
    "# General parameters for fine-tuning\n",
    "model_args = {\n",
    "    \"max_seq_length\": 196,\n",
    "    \"train_batch_size\": 4,\n",
    "    \"eval_batch_size\": 32,\n",
    "    \"num_train_epochs\": epochs,\n",
    "    \"evaluate_during_training\": True,\n",
    "    \"evaluate_during_training_steps\": 15000,\n",
    "    \"evaluate_during_training_verbose\": True,\n",
    "    \n",
    "    \"use_multiprocessing\": False,\n",
    "    \"fp16\": False,\n",
    "\n",
    "    \"save_steps\": -1,\n",
    "    \"save_eval_checkpoints\": False,\n",
    "    \"save_model_every_epoch\": False,\n",
    "\n",
    "    \"reprocess_input_data\": True,\n",
    "    \"overwrite_output_dir\": True,\n",
    "    \n",
    "    # Creates special directory to hold each new model\n",
    "    \"output_dir\": f\"{training_type}-{model_name}-{epochs}epochs-bart\", \n",
    "\n",
    "}\n",
    "\n",
    "\n",
    "# Use bart-large as the model to be fine-tuned\n",
    "model = Seq2SeqModel(\n",
    "    encoder_decoder_type=\"bart\",\n",
    "    encoder_decoder_name=\"facebook/bart-base\",\n",
    "    args=model_args,\n",
    ")\n",
    "\n",
    "# Fine-tuning the bart model\n",
    "model.train_model(training_df, eval_data=testing_df)"
   ]
  },
  {
   "cell_type": "code",
   "execution_count": null,
   "id": "b1cf3f61",
   "metadata": {},
   "outputs": [],
   "source": []
  }
 ],
 "metadata": {
  "kernelspec": {
   "display_name": "Python 3",
   "language": "python",
   "name": "python3"
  },
  "language_info": {
   "codemirror_mode": {
    "name": "ipython",
    "version": 3
   },
   "file_extension": ".py",
   "mimetype": "text/x-python",
   "name": "python",
   "nbconvert_exporter": "python",
   "pygments_lexer": "ipython3",
   "version": "3.7.8"
  }
 },
 "nbformat": 4,
 "nbformat_minor": 5
}
