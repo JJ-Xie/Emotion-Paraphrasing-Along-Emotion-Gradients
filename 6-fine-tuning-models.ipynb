{
 "cells": [
  {
   "cell_type": "code",
   "execution_count": null,
   "id": "2aa6e98f",
   "metadata": {
    "scrolled": true
   },
   "outputs": [],
   "source": [
    "# Installing simpletransformers here \n",
    "# because of conflicting transformer version needed by GoEmotions\n",
    "!pip install simpletransformers"
   ]
  },
  {
   "cell_type": "code",
   "execution_count": null,
   "id": "97761259",
   "metadata": {},
   "outputs": [],
   "source": [
    "# Activates CUDA for GPU use for fine-tuning T5 models\n",
    "import torch\n",
    "\n",
    "device = torch.device(\"cuda\" if torch.cuda.is_available() else \"cpu\")\n",
    "device\n",
    "str(torch.cuda.memory_allocated(device)/1000000 ) + 'M'\n",
    "torch.multiprocessing.set_sharing_strategy('file_system')"
   ]
  },
  {
   "cell_type": "code",
   "execution_count": null,
   "id": "974b3f8c",
   "metadata": {},
   "outputs": [],
   "source": [
    "# Allows user input for:\n",
    "# 1. Data set to train model\n",
    "# 2. Training type determines if the training process uses \n",
    "# a) The larger Training set\n",
    "# b) The smaller Test set\n",
    "# 3. Number of fine-tuning Epochs \n",
    "model_name = input('Dataset to train model (mix, twit0.825 or combined):  ')\n",
    "training_type = input('Regular or limited training (regular or limited): ')\n",
    "epochs = int(input('Number of training epochs: '))\n",
    "\n",
    "if training_type.lower() == 'regular':\n",
    "    train_set = 'training'\n",
    "    eval_set = 'testing'\n",
    "elif training_type.lower() == 'limited':\n",
    "    train_set = 'testing'\n",
    "    eval_set = 'training'\n",
    "else:\n",
    "    print('Please enter a valid training type')"
   ]
  },
  {
   "cell_type": "code",
   "execution_count": null,
   "id": "77f89717",
   "metadata": {},
   "outputs": [],
   "source": [
    "# Fine-tuning T5 by the specified data set, training type, and number of epochs specified above\n",
    "import pandas as pd\n",
    "from simpletransformers.t5 import T5Model\n",
    "\n",
    "training_df = pd.read_csv(f'emotion-labeled-data/{model_name}/{model_name}-{train_set}_t5.tsv', sep=\"\\t\").astype(str)\n",
    "testing_df = pd.read_csv(f'emotion-labeled-data/{model_name}/{model_name}-{eval_set}_t5.tsv', sep=\"\\t\").astype(str)\n",
    "\n",
    "\n",
    "# General parameters for fine-tuning\n",
    "model_args = {\n",
    "    \"max_seq_length\": 196,\n",
    "    \"train_batch_size\": 6,\n",
    "    \"eval_batch_size\": 32,\n",
    "    \"num_train_epochs\": epochs,\n",
    "    \"evaluate_during_training\": True,\n",
    "    \"evaluate_during_training_steps\": 15000,\n",
    "    \"evaluate_during_training_verbose\": True,\n",
    "    \n",
    "    \"use_multiprocessing\": False,\n",
    "    \"fp16\": False,\n",
    "\n",
    "    \"save_steps\": -1,\n",
    "    \"save_eval_checkpoints\": False,\n",
    "    \"save_model_every_epoch\": False,\n",
    "\n",
    "    \"reprocess_input_data\": True,\n",
    "    \"overwrite_output_dir\": True,\n",
    "    \n",
    "    # Creates special directory to hold each new model\n",
    "    \"output_dir\": f\"{training_type}-{model_name}-{epochs}epochs\", \n",
    "\n",
    "}\n",
    "\n",
    "\n",
    "# Use t5-base as the model to be fine-tuned\n",
    "model = T5Model(\"t5\", \"t5-base\", args=model_args)\n",
    "\n",
    "# Fine-tuning the T5 model\n",
    "model.train_model(training_df, eval_data=testing_df)"
   ]
  },
  {
   "cell_type": "code",
   "execution_count": null,
   "id": "d285505e",
   "metadata": {},
   "outputs": [],
   "source": []
  },
  {
   "cell_type": "code",
   "execution_count": null,
   "id": "742a65d9",
   "metadata": {},
   "outputs": [],
   "source": [
    "# Fine-tuning BART by the specified data set, training type, and number of epochs specified above\n",
    "import pandas as pd\n",
    "from simpletransformers.seq2seq import Seq2SeqModel, Seq2SeqArgs\n",
    "\n",
    "training_df = pd.read_csv(f'emotion-labeled-data/{model_name}/{model_name}-{train_set}_t5.tsv', sep=\"\\t\").astype(str)\n",
    "testing_df = pd.read_csv(f'emotion-labeled-data/{model_name}/{model_name}-{eval_set}_t5.tsv', sep=\"\\t\").astype(str)\n",
    "\n",
    "\n",
    "# General parameters for fine-tuning\n",
    "model_args = {\n",
    "    \"max_seq_length\": 196,\n",
    "    \"train_batch_size\": 4,\n",
    "    \"eval_batch_size\": 32,\n",
    "    \"num_train_epochs\": epochs,\n",
    "    \"evaluate_during_training\": True,\n",
    "    \"evaluate_during_training_steps\": 15000,\n",
    "    \"evaluate_during_training_verbose\": True,\n",
    "    \n",
    "    \"use_multiprocessing\": False,\n",
    "    \"fp16\": False,\n",
    "\n",
    "    \"save_steps\": -1,\n",
    "    \"save_eval_checkpoints\": False,\n",
    "    \"save_model_every_epoch\": False,\n",
    "\n",
    "    \"reprocess_input_data\": True,\n",
    "    \"overwrite_output_dir\": True,\n",
    "    \n",
    "    # Creates special directory to hold each new model\n",
    "    \"output_dir\": f\"{training_type}-{model_name}-{epochs}epochs-bart\", \n",
    "\n",
    "}\n",
    "\n",
    "\n",
    "# Use bart-large as the model to be fine-tuned\n",
    "model = Seq2SeqModel(\n",
    "    encoder_decoder_type=\"bart\",\n",
    "    encoder_decoder_name=\"facebook/bart-base\",\n",
    "    args=model_args,\n",
    ")\n",
    "\n",
    "# Fine-tuning the bart model\n",
    "model.train_model(training_df, eval_data=testing_df)"
   ]
  },
  {
   "cell_type": "code",
   "execution_count": null,
   "id": "b1cf3f61",
   "metadata": {},
   "outputs": [],
   "source": []
  }
 ],
 "metadata": {
  "kernelspec": {
   "display_name": "Python 3",
   "language": "python",
   "name": "python3"
  },
  "language_info": {
   "codemirror_mode": {
    "name": "ipython",
    "version": 3
   },
   "file_extension": ".py",
   "mimetype": "text/x-python",
   "name": "python",
   "nbconvert_exporter": "python",
   "pygments_lexer": "ipython3",
   "version": "3.7.8"
  }
 },
 "nbformat": 4,
 "nbformat_minor": 5
}
