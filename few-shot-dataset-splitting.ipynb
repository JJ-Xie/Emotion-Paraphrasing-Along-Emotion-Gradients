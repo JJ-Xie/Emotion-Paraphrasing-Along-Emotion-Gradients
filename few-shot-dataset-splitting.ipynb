{
 "cells": [
  {
   "cell_type": "code",
   "execution_count": null,
   "id": "3675a8a1",
   "metadata": {},
   "outputs": [],
   "source": [
    "import os\n",
    "import pandas as pd\n",
    "from sklearn.model_selection import train_test_split\n",
    "\n",
    "dataset_name = input('Dataset to label emotions (google, msr, quora, mix, twit0.825):  ')\n",
    "\n",
    "if not (dataset_name.lower() in ['google', 'msr', 'quora', 'mix', 'twit0.825']): \n",
    "    print('Please enter a valid dataset name')\n",
    "\n",
    "print('Dataset selected: ' + dataset_name)\n",
    "\n",
    "emo_filter_list = [\n",
    "                   'sid',\n",
    "                   'sid_rg', \n",
    "#                   'emo', \n",
    "#                   'emo_sid', \n",
    "#                   'emo_sid_tg', \n",
    "#                   'emo_sid_tg_nn', \n",
    "#                   'emo_sid_tg_ge', \n",
    "#                   'emo_sid_tg_nn_ge'\n",
    "                  ]\n",
    "\n",
    "split_percentages = [0.25, 0.5]"
   ]
  },
  {
   "cell_type": "code",
   "execution_count": null,
   "id": "10d3a47a",
   "metadata": {},
   "outputs": [],
   "source": [
    "def few_shot_train_split(emo_filter):\n",
    "    df = pd.read_csv(f'emotion-labeled-data/{dataset_name}/{dataset_name}-{emo_filter}-training_t5.tsv', encoding='utf-8', sep='\\t')\n",
    "    \n",
    "    df25, useless = train_test_split(df, train_size = 0.33, random_state = 50)\n",
    "    df50, useless = train_test_split(df, train_size = 0.67, random_state = 50)\n",
    "    \n",
    "    return df25, df50\n",
    "\n",
    "for emo_filter in emo_filter_list:\n",
    "    df25, df50 = few_shot_train_split(emo_filter)\n",
    "    \n",
    "    df25.to_csv(f'emotion-labeled-data/{dataset_name}/{dataset_name}-{emo_filter}-25percent-training_t5.tsv', encoding='utf-8', sep='\\t')\n",
    "    df50.to_csv(f'emotion-labeled-data/{dataset_name}/{dataset_name}-{emo_filter}-50percent-training_t5.tsv', encoding='utf-8', sep='\\t')"
   ]
  },
  {
   "cell_type": "code",
   "execution_count": null,
   "id": "4d8895e7",
   "metadata": {},
   "outputs": [],
   "source": []
  }
 ],
 "metadata": {
  "kernelspec": {
   "display_name": "Python 3",
   "language": "python",
   "name": "python3"
  },
  "language_info": {
   "codemirror_mode": {
    "name": "ipython",
    "version": 3
   },
   "file_extension": ".py",
   "mimetype": "text/x-python",
   "name": "python",
   "nbconvert_exporter": "python",
   "pygments_lexer": "ipython3",
   "version": "3.7.8"
  }
 },
 "nbformat": 4,
 "nbformat_minor": 5
}
