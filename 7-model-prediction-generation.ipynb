{
 "cells": [
  {
   "cell_type": "code",
   "execution_count": null,
   "id": "2ef6893e",
   "metadata": {},
   "outputs": [],
   "source": [
    "# Installing simpletransformers here \n",
    "# because of conflicting transformer version needed by GoEmotions\n",
    "!pip install simpletransformers"
   ]
  },
  {
   "cell_type": "code",
   "execution_count": null,
   "id": "1cba65ef",
   "metadata": {},
   "outputs": [],
   "source": [
    "# Activates CUDA for GPU use on T5 model prediction generation\n",
    "import torch\n",
    "\n",
    "device = torch.device(\"cuda\" if torch.cuda.is_available() else \"cpu\")\n",
    "device\n",
    "str(torch.cuda.memory_allocated(device)/1000000 ) + 'M'\n",
    "torch.multiprocessing.set_sharing_strategy('file_system')"
   ]
  },
  {
   "cell_type": "code",
   "execution_count": null,
   "id": "b65f6b03",
   "metadata": {},
   "outputs": [],
   "source": [
    "# Allows user input for model used for paraphrase generation based on:\n",
    "# 1. Data set used to train model\n",
    "# 2. Training type of model\n",
    "# 3. Epochs used to train model\n",
    "# Allows user to specify evaluation data set \n",
    "model_dataset = input('Dataset used to train model (twit0.825, mix, or combined): ')\n",
    "training_type = input('Training type of model: ')\n",
    "epochs = int(input('Number of epochs trained on model'))\n",
    "model_name = f\"{training_type}-{model_dataset}-{epochs}epochs\"\n",
    "\n",
    "testing_set = input('Dataset for prediction generation: ')\n",
    "\n",
    "if training_type.lower() == 'regular':\n",
    "    train_set = 'training'\n",
    "    eval_set = 'testing'\n",
    "elif training_type.lower() == 'limited':\n",
    "    train_set = 'testing'\n",
    "    eval_set = 'training'\n",
    "else:\n",
    "    print('Please enter a valid training type')"
   ]
  },
  {
   "cell_type": "code",
   "execution_count": null,
   "id": "d4a45d50",
   "metadata": {
    "scrolled": true
   },
   "outputs": [],
   "source": [
    "# Prediction generation using specified model and evaluation set \n",
    "# Type of evaluation set (training or testing) is opposite of type used to train the specificed model\n",
    "import pandas as pd\n",
    "import os\n",
    "from simpletransformers.t5 import T5Model\n",
    "\n",
    "print(f'---- Generating Predictions for Model: {model_name}  on Dataset: {testing_set}----')\n",
    "\n",
    "# General parameters for prediction generation\n",
    "model_args = {\n",
    "    \"overwrite_output_dir\": True,\n",
    "    \"max_seq_length\": 196,\n",
    "    \"eval_batch_size\": 32,\n",
    "    \"num_train_epochs\": 1,\n",
    "    \"use_multiprocessing\": False,\n",
    "    \"num_beams\": None,\n",
    "    \"do_sample\": True,\n",
    "    \"max_length\": 50,\n",
    "    \"top_k\": 50,\n",
    "    \"top_p\": 0.95,\n",
    "    \"num_return_sequences\": 3,\n",
    "}\n",
    "\n",
    "# Imports model and evaluation setfrom current directory\n",
    "model = T5Model(\"t5\", model_name, args=model_args)\n",
    "df = pd.read_csv(f'emotion-labeled-data/{model_dataset}/{testing_set}-{eval_set}_t5.tsv', sep=\"\\t\").astype(str)\n",
    "\n",
    "# Generates statements used for predictions\n",
    "to_predict = [\n",
    "    prefix + \": \" + str(input_text)\n",
    "    for prefix, input_text in zip(df[\"prefix\"].tolist(), df[\"input_text\"].tolist())\n",
    "]\n",
    "\n",
    "# Generates the predictions and adds them to the dataframe\n",
    "preds = model.predict(to_predict)\n",
    "preds = [pred[0] for pred in preds]\n",
    "df[\"predictions\"] = preds\n",
    "df = df.drop(['Unnamed: 0'], axis=1)\n",
    "\n",
    "# Ensures directory exists for save location\n",
    "path = f'predictions-data/{model_name}'\n",
    "if not os.path.exists(path):\n",
    "    os.mkdir(path)\n",
    "\n",
    "# Saves file with predictions to a new directory for the scoring stage\n",
    "df.to_csv(f'predictions-data/{model_name}/{testing_set}-predictions.tsv', sep=\"\\t\")"
   ]
  },
  {
   "cell_type": "code",
   "execution_count": null,
   "id": "e534445e",
   "metadata": {},
   "outputs": [],
   "source": []
  }
 ],
 "metadata": {
  "kernelspec": {
   "display_name": "Python 3",
   "language": "python",
   "name": "python3"
  },
  "language_info": {
   "codemirror_mode": {
    "name": "ipython",
    "version": 3
   },
   "file_extension": ".py",
   "mimetype": "text/x-python",
   "name": "python",
   "nbconvert_exporter": "python",
   "pygments_lexer": "ipython3",
   "version": "3.7.8"
  }
 },
 "nbformat": 4,
 "nbformat_minor": 5
}
