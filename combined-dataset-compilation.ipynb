{
 "cells": [
  {
   "cell_type": "code",
   "execution_count": null,
   "id": "da41b68c",
   "metadata": {},
   "outputs": [],
   "source": [
    "import pandas as pd\n",
    "import os\n",
    "\n",
    "mix_training_df = pd.read_csv('emotion-labeled-data/mix/mix-training_t5.tsv', sep='\\t').astype(str)\n",
    "mix_testing_df = pd.read_csv('emotion-labeled-data/mix/mix-testing_t5.tsv', sep='\\t').astype(str)\n",
    "\n",
    "twit_training_df = pd.read_csv('emotion-labeled-data/twit0.775/twit0.775-training_t5.tsv', sep='\\t').astype(str)\n",
    "twit_testing_df = pd.read_csv('emotion-labeled-data/twit0.775/twit0.775-testing_t5.tsv', sep='\\t').astype(str)\n",
    "\n",
    "combo_training_df = pd.concat([mix_training_df, twit_training_df])\n",
    "combo_testing_df = pd.concat([mix_testing_df, twit_testing_df])\n",
    "\n",
    "combo_training_df = combo_training_df.drop(['Unnamed: 0'], axis=1)\n",
    "combo_testing_df = combo_testing_df.drop(['Unnamed: 0'], axis=1)\n",
    "\n",
    "combo_training_df.to_csv('emotion-labeled-data/combined/combined-training_t5.tsv', sep='\\t')\n",
    "combo_testing_df.to_csv('emotion-labeled-data/combined/combined-testing_t5.tsv', sep='\\t')"
   ]
  }
 ],
 "metadata": {
  "kernelspec": {
   "display_name": "Python 3",
   "language": "python",
   "name": "python3"
  },
  "language_info": {
   "codemirror_mode": {
    "name": "ipython",
    "version": 3
   },
   "file_extension": ".py",
   "mimetype": "text/x-python",
   "name": "python",
   "nbconvert_exporter": "python",
   "pygments_lexer": "ipython3",
   "version": "3.7.8"
  }
 },
 "nbformat": 4,
 "nbformat_minor": 5
}
